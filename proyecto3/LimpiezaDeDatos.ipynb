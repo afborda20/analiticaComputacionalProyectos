{
 "cells": [
  {
   "cell_type": "markdown",
   "metadata": {},
   "source": [
    "LIMPIEZA DE DATOS PROYECTO 3 ANALITICA DE DATOS"
   ]
  },
  {
   "cell_type": "code",
   "execution_count": 1,
   "metadata": {},
   "outputs": [],
   "source": [
    "#Importar librerias\n",
    "import pandas as pd"
   ]
  },
  {
   "cell_type": "code",
   "execution_count": 2,
   "metadata": {},
   "outputs": [],
   "source": [
    "# Lectura de los datos\n",
    "df_original = pd.read_csv(\"data/data_icfes.csv\", delimiter=',')"
   ]
  },
  {
   "cell_type": "code",
   "execution_count": 3,
   "metadata": {},
   "outputs": [
    {
     "data": {
      "text/html": [
       "<div>\n",
       "<style scoped>\n",
       "    .dataframe tbody tr th:only-of-type {\n",
       "        vertical-align: middle;\n",
       "    }\n",
       "\n",
       "    .dataframe tbody tr th {\n",
       "        vertical-align: top;\n",
       "    }\n",
       "\n",
       "    .dataframe thead th {\n",
       "        text-align: right;\n",
       "    }\n",
       "</style>\n",
       "<table border=\"1\" class=\"dataframe\">\n",
       "  <thead>\n",
       "    <tr style=\"text-align: right;\">\n",
       "      <th></th>\n",
       "      <th>periodo</th>\n",
       "      <th>estu_tipodocumento</th>\n",
       "      <th>estu_consecutivo</th>\n",
       "      <th>cole_area_ubicacion</th>\n",
       "      <th>cole_bilingue</th>\n",
       "      <th>cole_calendario</th>\n",
       "      <th>cole_caracter</th>\n",
       "      <th>cole_cod_dane_establecimiento</th>\n",
       "      <th>cole_cod_dane_sede</th>\n",
       "      <th>cole_cod_depto_ubicacion</th>\n",
       "      <th>...</th>\n",
       "      <th>fami_tieneinternet</th>\n",
       "      <th>fami_tienelavadora</th>\n",
       "      <th>desemp_ingles</th>\n",
       "      <th>punt_ingles</th>\n",
       "      <th>punt_matematicas</th>\n",
       "      <th>punt_sociales_ciudadanas</th>\n",
       "      <th>punt_c_naturales</th>\n",
       "      <th>punt_lectura_critica</th>\n",
       "      <th>punt_global</th>\n",
       "      <th>partition_0</th>\n",
       "    </tr>\n",
       "  </thead>\n",
       "  <tbody>\n",
       "    <tr>\n",
       "      <th>0</th>\n",
       "      <td>20194</td>\n",
       "      <td>TI</td>\n",
       "      <td>SB11201940082829</td>\n",
       "      <td>RURAL</td>\n",
       "      <td>N</td>\n",
       "      <td>A</td>\n",
       "      <td>ACADÉMICO</td>\n",
       "      <td>105628000227</td>\n",
       "      <td>205628000230</td>\n",
       "      <td>5</td>\n",
       "      <td>...</td>\n",
       "      <td>No</td>\n",
       "      <td>Si</td>\n",
       "      <td>A1</td>\n",
       "      <td>51.0</td>\n",
       "      <td>41.0</td>\n",
       "      <td>22</td>\n",
       "      <td>39</td>\n",
       "      <td>35</td>\n",
       "      <td>178</td>\n",
       "      <td>icfes</td>\n",
       "    </tr>\n",
       "    <tr>\n",
       "      <th>1</th>\n",
       "      <td>20194</td>\n",
       "      <td>TI</td>\n",
       "      <td>SB11201940082829</td>\n",
       "      <td>RURAL</td>\n",
       "      <td>N</td>\n",
       "      <td>A</td>\n",
       "      <td>ACADÉMICO</td>\n",
       "      <td>105628000227</td>\n",
       "      <td>205628000230</td>\n",
       "      <td>5</td>\n",
       "      <td>...</td>\n",
       "      <td>No</td>\n",
       "      <td>Si</td>\n",
       "      <td>A1</td>\n",
       "      <td>51.0</td>\n",
       "      <td>41.0</td>\n",
       "      <td>22</td>\n",
       "      <td>39</td>\n",
       "      <td>35</td>\n",
       "      <td>178</td>\n",
       "      <td>icfes</td>\n",
       "    </tr>\n",
       "    <tr>\n",
       "      <th>2</th>\n",
       "      <td>20194</td>\n",
       "      <td>TI</td>\n",
       "      <td>SB11201940551349</td>\n",
       "      <td>RURAL</td>\n",
       "      <td>N</td>\n",
       "      <td>A</td>\n",
       "      <td>TÉCNICO</td>\n",
       "      <td>219397000461</td>\n",
       "      <td>219397000461</td>\n",
       "      <td>19</td>\n",
       "      <td>...</td>\n",
       "      <td>No</td>\n",
       "      <td>No</td>\n",
       "      <td>A-</td>\n",
       "      <td>45.0</td>\n",
       "      <td>54.0</td>\n",
       "      <td>39</td>\n",
       "      <td>50</td>\n",
       "      <td>46</td>\n",
       "      <td>235</td>\n",
       "      <td>icfes</td>\n",
       "    </tr>\n",
       "    <tr>\n",
       "      <th>3</th>\n",
       "      <td>20194</td>\n",
       "      <td>TI</td>\n",
       "      <td>SB11201940551349</td>\n",
       "      <td>RURAL</td>\n",
       "      <td>N</td>\n",
       "      <td>A</td>\n",
       "      <td>TÉCNICO</td>\n",
       "      <td>219397000461</td>\n",
       "      <td>219397000461</td>\n",
       "      <td>19</td>\n",
       "      <td>...</td>\n",
       "      <td>No</td>\n",
       "      <td>No</td>\n",
       "      <td>A-</td>\n",
       "      <td>45.0</td>\n",
       "      <td>54.0</td>\n",
       "      <td>39</td>\n",
       "      <td>50</td>\n",
       "      <td>46</td>\n",
       "      <td>235</td>\n",
       "      <td>icfes</td>\n",
       "    </tr>\n",
       "    <tr>\n",
       "      <th>4</th>\n",
       "      <td>20194</td>\n",
       "      <td>TI</td>\n",
       "      <td>SB11201940239533</td>\n",
       "      <td>RURAL</td>\n",
       "      <td>N</td>\n",
       "      <td>A</td>\n",
       "      <td>TÉCNICO/ACADÉMICO</td>\n",
       "      <td>252227000791</td>\n",
       "      <td>252227000791</td>\n",
       "      <td>52</td>\n",
       "      <td>...</td>\n",
       "      <td>No</td>\n",
       "      <td>No</td>\n",
       "      <td>A-</td>\n",
       "      <td>46.0</td>\n",
       "      <td>47.0</td>\n",
       "      <td>35</td>\n",
       "      <td>46</td>\n",
       "      <td>46</td>\n",
       "      <td>218</td>\n",
       "      <td>icfes</td>\n",
       "    </tr>\n",
       "  </tbody>\n",
       "</table>\n",
       "<p>5 rows × 52 columns</p>\n",
       "</div>"
      ],
      "text/plain": [
       "   periodo estu_tipodocumento  estu_consecutivo cole_area_ubicacion  \\\n",
       "0    20194                 TI  SB11201940082829               RURAL   \n",
       "1    20194                 TI  SB11201940082829               RURAL   \n",
       "2    20194                 TI  SB11201940551349               RURAL   \n",
       "3    20194                 TI  SB11201940551349               RURAL   \n",
       "4    20194                 TI  SB11201940239533               RURAL   \n",
       "\n",
       "  cole_bilingue cole_calendario      cole_caracter  \\\n",
       "0             N               A          ACADÉMICO   \n",
       "1             N               A          ACADÉMICO   \n",
       "2             N               A            TÉCNICO   \n",
       "3             N               A            TÉCNICO   \n",
       "4             N               A  TÉCNICO/ACADÉMICO   \n",
       "\n",
       "   cole_cod_dane_establecimiento  cole_cod_dane_sede  \\\n",
       "0                   105628000227        205628000230   \n",
       "1                   105628000227        205628000230   \n",
       "2                   219397000461        219397000461   \n",
       "3                   219397000461        219397000461   \n",
       "4                   252227000791        252227000791   \n",
       "\n",
       "   cole_cod_depto_ubicacion  ...  fami_tieneinternet  fami_tienelavadora  \\\n",
       "0                         5  ...                  No                  Si   \n",
       "1                         5  ...                  No                  Si   \n",
       "2                        19  ...                  No                  No   \n",
       "3                        19  ...                  No                  No   \n",
       "4                        52  ...                  No                  No   \n",
       "\n",
       "  desemp_ingles punt_ingles punt_matematicas punt_sociales_ciudadanas  \\\n",
       "0            A1        51.0             41.0                       22   \n",
       "1            A1        51.0             41.0                       22   \n",
       "2            A-        45.0             54.0                       39   \n",
       "3            A-        45.0             54.0                       39   \n",
       "4            A-        46.0             47.0                       35   \n",
       "\n",
       "  punt_c_naturales punt_lectura_critica punt_global partition_0  \n",
       "0               39                   35         178       icfes  \n",
       "1               39                   35         178       icfes  \n",
       "2               50                   46         235       icfes  \n",
       "3               50                   46         235       icfes  \n",
       "4               46                   46         218       icfes  \n",
       "\n",
       "[5 rows x 52 columns]"
      ]
     },
     "execution_count": 3,
     "metadata": {},
     "output_type": "execute_result"
    }
   ],
   "source": [
    "#Resumen del contenido de los datos\n",
    "df_original.head()"
   ]
  },
  {
   "cell_type": "code",
   "execution_count": 4,
   "metadata": {},
   "outputs": [
    {
     "name": "stdout",
     "output_type": "stream",
     "text": [
      "  cole_bilingue cole_calendario      cole_caracter cole_genero cole_jornada  \\\n",
      "0             N               A          ACADÉMICO       MIXTO     COMPLETA   \n",
      "1             N               A          ACADÉMICO       MIXTO     COMPLETA   \n",
      "2             N               A            TÉCNICO       MIXTO       MAÑANA   \n",
      "3             N               A            TÉCNICO       MIXTO       MAÑANA   \n",
      "4             N               A  TÉCNICO/ACADÉMICO       MIXTO       MAÑANA   \n",
      "\n",
      "  cole_naturaleza cole_sede_principal estu_genero fami_cuartoshogar  \\\n",
      "0         OFICIAL                   N           F               Dos   \n",
      "1         OFICIAL                   N           F               Dos   \n",
      "2         OFICIAL                   S           M              Tres   \n",
      "3         OFICIAL                   S           M              Tres   \n",
      "4         OFICIAL                   S           F              Tres   \n",
      "\n",
      "   fami_educacionmadre  fami_educacionpadre fami_estratovivienda  \\\n",
      "0    Primaria completa  Primaria incompleta            Estrato 1   \n",
      "1    Primaria completa  Primaria incompleta            Estrato 1   \n",
      "2              Ninguno              Ninguno            Estrato 2   \n",
      "3              Ninguno              Ninguno            Estrato 2   \n",
      "4  Primaria incompleta  Primaria incompleta            Estrato 3   \n",
      "\n",
      "  fami_personashogar fami_tieneautomovil fami_tienecomputador  \\\n",
      "0              3 a 4                  No                   No   \n",
      "1              3 a 4                  No                   No   \n",
      "2              3 a 4                  No                   No   \n",
      "3              3 a 4                  No                   No   \n",
      "4              7 a 8                  No                   Si   \n",
      "\n",
      "  fami_tieneinternet fami_tienelavadora  punt_global  \n",
      "0                 No                 Si          178  \n",
      "1                 No                 Si          178  \n",
      "2                 No                 No          235  \n",
      "3                 No                 No          235  \n",
      "4                 No                 No          218  \n"
     ]
    }
   ],
   "source": [
    "#Eliminar columnas que no nos sirven\n",
    "\n",
    "df_colselec = df_original[[\n",
    "    \"cole_bilingue\", \"cole_calendario\", \"cole_caracter\", \n",
    "    \"cole_genero\", \n",
    "    \"cole_jornada\", \"cole_naturaleza\", \"cole_sede_principal\", \n",
    "    \"estu_genero\", \"fami_cuartoshogar\", \"fami_educacionmadre\", \n",
    "    \"fami_educacionpadre\", \"fami_estratovivienda\", \"fami_personashogar\", \n",
    "    \"fami_tieneautomovil\", \"fami_tienecomputador\", \"fami_tieneinternet\", \n",
    "    \"fami_tienelavadora\", \"punt_global\"\n",
    "]]\n",
    "\n",
    "print(df_colselec.head())"
   ]
  },
  {
   "cell_type": "code",
   "execution_count": 5,
   "metadata": {},
   "outputs": [
    {
     "name": "stdout",
     "output_type": "stream",
     "text": [
      "<class 'pandas.core.frame.DataFrame'>\n",
      "RangeIndex: 173669 entries, 0 to 173668\n",
      "Data columns (total 18 columns):\n",
      " #   Column                Non-Null Count   Dtype \n",
      "---  ------                --------------   ----- \n",
      " 0   cole_bilingue         123614 non-null  object\n",
      " 1   cole_calendario       173669 non-null  object\n",
      " 2   cole_caracter         171178 non-null  object\n",
      " 3   cole_genero           173669 non-null  object\n",
      " 4   cole_jornada          173669 non-null  object\n",
      " 5   cole_naturaleza       173669 non-null  object\n",
      " 6   cole_sede_principal   173669 non-null  object\n",
      " 7   estu_genero           173609 non-null  object\n",
      " 8   fami_cuartoshogar     168713 non-null  object\n",
      " 9   fami_educacionmadre   163212 non-null  object\n",
      " 10  fami_educacionpadre   163237 non-null  object\n",
      " 11  fami_estratovivienda  161221 non-null  object\n",
      " 12  fami_personashogar    168899 non-null  object\n",
      " 13  fami_tieneautomovil   168263 non-null  object\n",
      " 14  fami_tienecomputador  168671 non-null  object\n",
      " 15  fami_tieneinternet    163050 non-null  object\n",
      " 16  fami_tienelavadora    168730 non-null  object\n",
      " 17  punt_global           173669 non-null  int64 \n",
      "dtypes: int64(1), object(17)\n",
      "memory usage: 23.8+ MB\n"
     ]
    }
   ],
   "source": [
    "# Revisar las características de los datos: completitud y tipo de dato\n",
    "df_colselec.info()"
   ]
  },
  {
   "cell_type": "code",
   "execution_count": 6,
   "metadata": {},
   "outputs": [
    {
     "data": {
      "text/plain": [
       "cole_bilingue\n",
       "N    120051\n",
       "S      3563\n",
       "Name: count, dtype: int64"
      ]
     },
     "execution_count": 6,
     "metadata": {},
     "output_type": "execute_result"
    }
   ],
   "source": [
    "df_colselec.cole_bilingue.value_counts()"
   ]
  },
  {
   "cell_type": "code",
   "execution_count": 7,
   "metadata": {},
   "outputs": [
    {
     "name": "stderr",
     "output_type": "stream",
     "text": [
      "C:\\Users\\andre\\AppData\\Local\\Temp\\ipykernel_12292\\512583931.py:1: SettingWithCopyWarning: \n",
      "A value is trying to be set on a copy of a slice from a DataFrame.\n",
      "Try using .loc[row_indexer,col_indexer] = value instead\n",
      "\n",
      "See the caveats in the documentation: https://pandas.pydata.org/pandas-docs/stable/user_guide/indexing.html#returning-a-view-versus-a-copy\n",
      "  df_colselec['cole_bilingue'] = df_colselec['cole_bilingue'].fillna('N')\n",
      "C:\\Users\\andre\\AppData\\Local\\Temp\\ipykernel_12292\\512583931.py:2: SettingWithCopyWarning: \n",
      "A value is trying to be set on a copy of a slice from a DataFrame.\n",
      "Try using .loc[row_indexer,col_indexer] = value instead\n",
      "\n",
      "See the caveats in the documentation: https://pandas.pydata.org/pandas-docs/stable/user_guide/indexing.html#returning-a-view-versus-a-copy\n",
      "  df_colselec['cole_bilingue'] = df_colselec['cole_bilingue'].map({'N': 0, 'S': 1})\n"
     ]
    },
    {
     "data": {
      "text/plain": [
       "cole_bilingue\n",
       "0    170106\n",
       "1      3563\n",
       "Name: count, dtype: int64"
      ]
     },
     "execution_count": 7,
     "metadata": {},
     "output_type": "execute_result"
    }
   ],
   "source": [
    "df_colselec['cole_bilingue'] = df_colselec['cole_bilingue'].fillna('N')\n",
    "df_colselec['cole_bilingue'] = df_colselec['cole_bilingue'].map({'N': 0, 'S': 1})\n",
    "\n",
    "\n",
    "df_colselec.cole_bilingue.value_counts()"
   ]
  },
  {
   "cell_type": "code",
   "execution_count": 8,
   "metadata": {},
   "outputs": [
    {
     "data": {
      "text/plain": [
       "cole_calendario\n",
       "A       171436\n",
       "B         2125\n",
       "OTRO       108\n",
       "Name: count, dtype: int64"
      ]
     },
     "execution_count": 8,
     "metadata": {},
     "output_type": "execute_result"
    }
   ],
   "source": [
    "df_colselec.cole_calendario.value_counts()"
   ]
  },
  {
   "cell_type": "code",
   "execution_count": 9,
   "metadata": {},
   "outputs": [
    {
     "name": "stderr",
     "output_type": "stream",
     "text": [
      "C:\\Users\\andre\\AppData\\Local\\Temp\\ipykernel_12292\\140646057.py:1: SettingWithCopyWarning: \n",
      "A value is trying to be set on a copy of a slice from a DataFrame.\n",
      "Try using .loc[row_indexer,col_indexer] = value instead\n",
      "\n",
      "See the caveats in the documentation: https://pandas.pydata.org/pandas-docs/stable/user_guide/indexing.html#returning-a-view-versus-a-copy\n",
      "  df_colselec['cole_calendario'] = df_colselec['cole_calendario'].map({'A': 1, 'B': 0, \"OTRO\": 0})\n"
     ]
    },
    {
     "data": {
      "text/plain": [
       "cole_calendario\n",
       "1    171436\n",
       "0      2233\n",
       "Name: count, dtype: int64"
      ]
     },
     "execution_count": 9,
     "metadata": {},
     "output_type": "execute_result"
    }
   ],
   "source": [
    "df_colselec['cole_calendario'] = df_colselec['cole_calendario'].map({'A': 1, 'B': 0, \"OTRO\": 0})\n",
    "\n",
    "df_colselec.cole_calendario.value_counts()"
   ]
  },
  {
   "cell_type": "code",
   "execution_count": 10,
   "metadata": {},
   "outputs": [
    {
     "data": {
      "text/plain": [
       "cole_jornada\n",
       "MAÑANA      96784\n",
       "COMPLETA    36370\n",
       "UNICA       19653\n",
       "SABATINA     8590\n",
       "TARDE        7872\n",
       "NOCHE        4400\n",
       "Name: count, dtype: int64"
      ]
     },
     "execution_count": 10,
     "metadata": {},
     "output_type": "execute_result"
    }
   ],
   "source": [
    "df_colselec.cole_jornada.value_counts()"
   ]
  },
  {
   "cell_type": "code",
   "execution_count": 11,
   "metadata": {},
   "outputs": [
    {
     "name": "stderr",
     "output_type": "stream",
     "text": [
      "C:\\Users\\andre\\AppData\\Local\\Temp\\ipykernel_12292\\763866118.py:1: SettingWithCopyWarning: \n",
      "A value is trying to be set on a copy of a slice from a DataFrame.\n",
      "Try using .loc[row_indexer,col_indexer] = value instead\n",
      "\n",
      "See the caveats in the documentation: https://pandas.pydata.org/pandas-docs/stable/user_guide/indexing.html#returning-a-view-versus-a-copy\n",
      "  df_colselec['cole_jornada'] = df_colselec['cole_jornada'].fillna('COMPLETA')\n",
      "C:\\Users\\andre\\AppData\\Local\\Temp\\ipykernel_12292\\763866118.py:4: SettingWithCopyWarning: \n",
      "A value is trying to be set on a copy of a slice from a DataFrame\n",
      "\n",
      "See the caveats in the documentation: https://pandas.pydata.org/pandas-docs/stable/user_guide/indexing.html#returning-a-view-versus-a-copy\n",
      "  df_colselec.drop(['cole_jornada'], axis=1, inplace=True)\n"
     ]
    },
    {
     "name": "stdout",
     "output_type": "stream",
     "text": [
      "<class 'pandas.core.frame.DataFrame'>\n",
      "RangeIndex: 173669 entries, 0 to 173668\n",
      "Data columns (total 23 columns):\n",
      " #   Column                Non-Null Count   Dtype \n",
      "---  ------                --------------   ----- \n",
      " 0   cole_bilingue         173669 non-null  int64 \n",
      " 1   cole_calendario       173669 non-null  int64 \n",
      " 2   cole_caracter         171178 non-null  object\n",
      " 3   cole_genero           173669 non-null  object\n",
      " 4   cole_naturaleza       173669 non-null  object\n",
      " 5   cole_sede_principal   173669 non-null  object\n",
      " 6   estu_genero           173609 non-null  object\n",
      " 7   fami_cuartoshogar     168713 non-null  object\n",
      " 8   fami_educacionmadre   163212 non-null  object\n",
      " 9   fami_educacionpadre   163237 non-null  object\n",
      " 10  fami_estratovivienda  161221 non-null  object\n",
      " 11  fami_personashogar    168899 non-null  object\n",
      " 12  fami_tieneautomovil   168263 non-null  object\n",
      " 13  fami_tienecomputador  168671 non-null  object\n",
      " 14  fami_tieneinternet    163050 non-null  object\n",
      " 15  fami_tienelavadora    168730 non-null  object\n",
      " 16  punt_global           173669 non-null  int64 \n",
      " 17  caracter_COMPLETA     173669 non-null  int32 \n",
      " 18  caracter_MAÑANA       173669 non-null  int32 \n",
      " 19  caracter_NOCHE        173669 non-null  int32 \n",
      " 20  caracter_SABATINA     173669 non-null  int32 \n",
      " 21  caracter_TARDE        173669 non-null  int32 \n",
      " 22  caracter_UNICA        173669 non-null  int32 \n",
      "dtypes: int32(6), int64(3), object(14)\n",
      "memory usage: 26.5+ MB\n"
     ]
    }
   ],
   "source": [
    "df_colselec['cole_jornada'] = df_colselec['cole_jornada'].fillna('COMPLETA')\n",
    "\n",
    "dummy = pd.get_dummies(df_colselec['cole_jornada'], prefix='caracter').astype(int)\n",
    "df_colselec.drop(['cole_jornada'], axis=1, inplace=True)\n",
    "df_colselec = pd.concat([df_colselec, dummy], axis=1)\n",
    "\n",
    "df_colselec.info()"
   ]
  },
  {
   "cell_type": "code",
   "execution_count": 12,
   "metadata": {},
   "outputs": [
    {
     "data": {
      "text/plain": [
       "cole_naturaleza\n",
       "OFICIAL       161906\n",
       "NO OFICIAL     11763\n",
       "Name: count, dtype: int64"
      ]
     },
     "execution_count": 12,
     "metadata": {},
     "output_type": "execute_result"
    }
   ],
   "source": [
    "df_colselec.cole_naturaleza.value_counts()"
   ]
  },
  {
   "cell_type": "code",
   "execution_count": 13,
   "metadata": {},
   "outputs": [
    {
     "data": {
      "text/plain": [
       "cole_naturaleza\n",
       "1    161906\n",
       "0     11763\n",
       "Name: count, dtype: int64"
      ]
     },
     "execution_count": 13,
     "metadata": {},
     "output_type": "execute_result"
    }
   ],
   "source": [
    "naturaleza_mapping = {\n",
    "    'OFICIAL': 1,\n",
    "    'NO OFICIAL': 0\n",
    "}\n",
    "\n",
    "df_colselec['cole_naturaleza'] = df_colselec['cole_naturaleza'].map(naturaleza_mapping)\n",
    "df_colselec.cole_naturaleza.value_counts()"
   ]
  },
  {
   "cell_type": "code",
   "execution_count": 14,
   "metadata": {},
   "outputs": [
    {
     "data": {
      "text/plain": [
       "cole_caracter\n",
       "ACADÉMICO            93106\n",
       "TÉCNICO/ACADÉMICO    41439\n",
       "TÉCNICO              30199\n",
       "NO APLICA             6434\n",
       "Name: count, dtype: int64"
      ]
     },
     "execution_count": 14,
     "metadata": {},
     "output_type": "execute_result"
    }
   ],
   "source": [
    "df_colselec.cole_caracter.value_counts()"
   ]
  },
  {
   "cell_type": "code",
   "execution_count": 15,
   "metadata": {},
   "outputs": [
    {
     "name": "stdout",
     "output_type": "stream",
     "text": [
      "<class 'pandas.core.frame.DataFrame'>\n",
      "RangeIndex: 173669 entries, 0 to 173668\n",
      "Data columns (total 26 columns):\n",
      " #   Column                      Non-Null Count   Dtype \n",
      "---  ------                      --------------   ----- \n",
      " 0   cole_bilingue               173669 non-null  int64 \n",
      " 1   cole_calendario             173669 non-null  int64 \n",
      " 2   cole_genero                 173669 non-null  object\n",
      " 3   cole_naturaleza             173669 non-null  int64 \n",
      " 4   cole_sede_principal         173669 non-null  object\n",
      " 5   estu_genero                 173609 non-null  object\n",
      " 6   fami_cuartoshogar           168713 non-null  object\n",
      " 7   fami_educacionmadre         163212 non-null  object\n",
      " 8   fami_educacionpadre         163237 non-null  object\n",
      " 9   fami_estratovivienda        161221 non-null  object\n",
      " 10  fami_personashogar          168899 non-null  object\n",
      " 11  fami_tieneautomovil         168263 non-null  object\n",
      " 12  fami_tienecomputador        168671 non-null  object\n",
      " 13  fami_tieneinternet          163050 non-null  object\n",
      " 14  fami_tienelavadora          168730 non-null  object\n",
      " 15  punt_global                 173669 non-null  int64 \n",
      " 16  caracter_COMPLETA           173669 non-null  int32 \n",
      " 17  caracter_MAÑANA             173669 non-null  int32 \n",
      " 18  caracter_NOCHE              173669 non-null  int32 \n",
      " 19  caracter_SABATINA           173669 non-null  int32 \n",
      " 20  caracter_TARDE              173669 non-null  int32 \n",
      " 21  caracter_UNICA              173669 non-null  int32 \n",
      " 22  caracter_ACADÉMICO          173669 non-null  int32 \n",
      " 23  caracter_NO APLICA          173669 non-null  int32 \n",
      " 24  caracter_TÉCNICO            173669 non-null  int32 \n",
      " 25  caracter_TÉCNICO/ACADÉMICO  173669 non-null  int32 \n",
      "dtypes: int32(10), int64(4), object(12)\n",
      "memory usage: 27.8+ MB\n"
     ]
    }
   ],
   "source": [
    "df_colselec['cole_caracter'] = df_colselec['cole_caracter'].fillna('NO APLICA')\n",
    "\n",
    "dummy = pd.get_dummies(df_colselec['cole_caracter'], prefix='caracter').astype(int)\n",
    "df_colselec.drop(['cole_caracter'], axis=1, inplace=True)\n",
    "df_colselec = pd.concat([df_colselec, dummy], axis=1)\n",
    "\n",
    "df_colselec.info()"
   ]
  },
  {
   "cell_type": "code",
   "execution_count": 16,
   "metadata": {},
   "outputs": [
    {
     "data": {
      "text/plain": [
       "cole_sede_principal\n",
       "S                                                   158485\n",
       "N                                                    15096\n",
       "I.E. RAFAEL NUÑEZ DE SAN ANDRES - SEDE PRINCIPAL        68\n",
       " TOCOTA\"                                                20\n",
       "Name: count, dtype: int64"
      ]
     },
     "execution_count": 16,
     "metadata": {},
     "output_type": "execute_result"
    }
   ],
   "source": [
    "df_colselec.cole_sede_principal.value_counts()"
   ]
  },
  {
   "cell_type": "code",
   "execution_count": 17,
   "metadata": {},
   "outputs": [
    {
     "data": {
      "text/plain": [
       "cole_sede_principal\n",
       "1.0    158485\n",
       "0.0     15096\n",
       "Name: count, dtype: int64"
      ]
     },
     "execution_count": 17,
     "metadata": {},
     "output_type": "execute_result"
    }
   ],
   "source": [
    "sede_mapping = {\n",
    "    'S': 1,\n",
    "    'N': 0\n",
    "}\n",
    "\n",
    "df_colselec['cole_sede_principal'] = df_colselec['cole_sede_principal'].map(sede_mapping)\n",
    "df_colselec.cole_sede_principal.value_counts()"
   ]
  },
  {
   "cell_type": "code",
   "execution_count": 18,
   "metadata": {},
   "outputs": [
    {
     "data": {
      "text/plain": [
       "cole_genero\n",
       "MIXTO        172827\n",
       "FEMENINO        500\n",
       "MASCULINO       342\n",
       "Name: count, dtype: int64"
      ]
     },
     "execution_count": 18,
     "metadata": {},
     "output_type": "execute_result"
    }
   ],
   "source": [
    "df_colselec.cole_genero.value_counts()"
   ]
  },
  {
   "cell_type": "code",
   "execution_count": 19,
   "metadata": {},
   "outputs": [
    {
     "name": "stdout",
     "output_type": "stream",
     "text": [
      "<class 'pandas.core.frame.DataFrame'>\n",
      "RangeIndex: 173669 entries, 0 to 173668\n",
      "Data columns (total 28 columns):\n",
      " #   Column                      Non-Null Count   Dtype  \n",
      "---  ------                      --------------   -----  \n",
      " 0   cole_bilingue               173669 non-null  int64  \n",
      " 1   cole_calendario             173669 non-null  int64  \n",
      " 2   cole_naturaleza             173669 non-null  int64  \n",
      " 3   cole_sede_principal         173581 non-null  float64\n",
      " 4   estu_genero                 173609 non-null  object \n",
      " 5   fami_cuartoshogar           168713 non-null  object \n",
      " 6   fami_educacionmadre         163212 non-null  object \n",
      " 7   fami_educacionpadre         163237 non-null  object \n",
      " 8   fami_estratovivienda        161221 non-null  object \n",
      " 9   fami_personashogar          168899 non-null  object \n",
      " 10  fami_tieneautomovil         168263 non-null  object \n",
      " 11  fami_tienecomputador        168671 non-null  object \n",
      " 12  fami_tieneinternet          163050 non-null  object \n",
      " 13  fami_tienelavadora          168730 non-null  object \n",
      " 14  punt_global                 173669 non-null  int64  \n",
      " 15  caracter_COMPLETA           173669 non-null  int32  \n",
      " 16  caracter_MAÑANA             173669 non-null  int32  \n",
      " 17  caracter_NOCHE              173669 non-null  int32  \n",
      " 18  caracter_SABATINA           173669 non-null  int32  \n",
      " 19  caracter_TARDE              173669 non-null  int32  \n",
      " 20  caracter_UNICA              173669 non-null  int32  \n",
      " 21  caracter_ACADÉMICO          173669 non-null  int32  \n",
      " 22  caracter_NO APLICA          173669 non-null  int32  \n",
      " 23  caracter_TÉCNICO            173669 non-null  int32  \n",
      " 24  caracter_TÉCNICO/ACADÉMICO  173669 non-null  int32  \n",
      " 25  genero_FEMENINO             173669 non-null  int32  \n",
      " 26  genero_MASCULINO            173669 non-null  int32  \n",
      " 27  genero_MIXTO                173669 non-null  int32  \n",
      "dtypes: float64(1), int32(13), int64(4), object(10)\n",
      "memory usage: 28.5+ MB\n"
     ]
    }
   ],
   "source": [
    "dummy = pd.get_dummies(df_colselec['cole_genero'], prefix='genero').astype(int)\n",
    "df_colselec.drop(['cole_genero'], axis=1, inplace=True)\n",
    "df_colselec = pd.concat([df_colselec, dummy], axis=1)\n",
    "\n",
    "df_colselec.info()"
   ]
  },
  {
   "cell_type": "code",
   "execution_count": 20,
   "metadata": {},
   "outputs": [
    {
     "data": {
      "text/plain": [
       "estu_genero\n",
       "F             92183\n",
       "M             81338\n",
       "15/08/2002        2\n",
       "17/08/2002        2\n",
       "20/11/2002        2\n",
       "01/10/2001        2\n",
       "02/08/2000        2\n",
       "31/03/2003        2\n",
       "09/10/2001        2\n",
       "28/12/2002        2\n",
       "01/07/2002        2\n",
       "14/05/2002        2\n",
       "01/12/2000        2\n",
       "14/10/2001        2\n",
       "16/07/2002        2\n",
       "07/10/2000        2\n",
       "19/11/2001        2\n",
       "22/11/2002        2\n",
       "03/11/2001        2\n",
       "04/06/1999        2\n",
       "28/02/2002        2\n",
       "28/10/2002        2\n",
       "05/06/2002        2\n",
       "26/08/2002        2\n",
       "23/03/2000        2\n",
       "31/01/2003        2\n",
       "31/08/2002        2\n",
       "31/03/2002        2\n",
       "26/10/2002        2\n",
       "27/11/2001        2\n",
       "03/09/2002        2\n",
       "14/09/2002        2\n",
       "02/10/2001        2\n",
       "17/07/2002        2\n",
       "04/08/2002        2\n",
       "04/11/2001        2\n",
       "09/01/2002        2\n",
       "01/11/2001        2\n",
       "26/08/1999        2\n",
       "18/02/2003        2\n",
       "20/08/2001        2\n",
       "22/05/2002        2\n",
       "28/02/2001        2\n",
       "27/02/2003        2\n",
       "18/08/2001        2\n",
       "11/08/2001        2\n",
       "Name: count, dtype: int64"
      ]
     },
     "execution_count": 20,
     "metadata": {},
     "output_type": "execute_result"
    }
   ],
   "source": [
    "df_colselec.estu_genero.value_counts()"
   ]
  },
  {
   "cell_type": "code",
   "execution_count": 21,
   "metadata": {},
   "outputs": [
    {
     "data": {
      "text/plain": [
       "cole_sede_principal\n",
       "1.0    158485\n",
       "0.0     15096\n",
       "Name: count, dtype: int64"
      ]
     },
     "execution_count": 21,
     "metadata": {},
     "output_type": "execute_result"
    }
   ],
   "source": [
    "estugen_mapping = {\n",
    "    'F': 1,\n",
    "    'M': 0\n",
    "}\n",
    "\n",
    "df_colselec['estu_genero'] = df_colselec['estu_genero'].map(estugen_mapping)\n",
    "df_colselec.cole_sede_principal.value_counts()"
   ]
  },
  {
   "cell_type": "code",
   "execution_count": 22,
   "metadata": {},
   "outputs": [
    {
     "data": {
      "text/plain": [
       "fami_cuartoshogar\n",
       "Dos           62193\n",
       "Tres          60585\n",
       "Cuatro        23864\n",
       "Uno           10146\n",
       "Cinco          7860\n",
       "Seis o mas     3977\n",
       "N                88\n",
       "Name: count, dtype: int64"
      ]
     },
     "execution_count": 22,
     "metadata": {},
     "output_type": "execute_result"
    }
   ],
   "source": [
    "df_colselec.fami_cuartoshogar.value_counts()\n"
   ]
  },
  {
   "cell_type": "code",
   "execution_count": 23,
   "metadata": {},
   "outputs": [
    {
     "data": {
      "text/plain": [
       "fami_cuartoshogar\n",
       "2.0    62193\n",
       "3.0    60585\n",
       "4.0    23864\n",
       "1.0    10146\n",
       "5.0     7860\n",
       "6.0     3977\n",
       "0.0       88\n",
       "Name: count, dtype: int64"
      ]
     },
     "execution_count": 23,
     "metadata": {},
     "output_type": "execute_result"
    }
   ],
   "source": [
    "cuartoshogar_mapping = {\n",
    "    'N': 0,\n",
    "    'Uno': 1,\n",
    "    'Dos': 2,\n",
    "    'Tres': 3,\n",
    "    'Cuatro': 4,\n",
    "    'Cinco': 5,\n",
    "    'Seis o mas': 6\n",
    "}\n",
    "\n",
    "df_colselec['fami_cuartoshogar'] = df_colselec['fami_cuartoshogar'].map(cuartoshogar_mapping)\n",
    "df_colselec = df_colselec.dropna(subset=['fami_cuartoshogar'])\n",
    "\n",
    "df_colselec.fami_cuartoshogar.value_counts()\n"
   ]
  },
  {
   "cell_type": "code",
   "execution_count": 24,
   "metadata": {},
   "outputs": [
    {
     "data": {
      "text/plain": [
       "fami_educacionmadre\n",
       "Primaria incompleta                     44331\n",
       "Secundaria (Bachillerato) completa      32853\n",
       "Primaria completa                       26914\n",
       "Secundaria (Bachillerato) incompleta    23423\n",
       "Educación profesional completa           8871\n",
       "Técnica o tecnológica completa           7782\n",
       "Ninguno                                  7458\n",
       "Técnica o tecnológica incompleta         2429\n",
       "Postgrado                                2324\n",
       "No sabe                                  2182\n",
       "Educación profesional incompleta         1744\n",
       "No Aplica                                 414\n",
       "Dos                                        50\n",
       "Tres                                       22\n",
       "Cuatro                                      8\n",
       "Uno                                         6\n",
       "Cinco                                       2\n",
       "Name: count, dtype: int64"
      ]
     },
     "execution_count": 24,
     "metadata": {},
     "output_type": "execute_result"
    }
   ],
   "source": [
    "df_colselec.fami_educacionmadre.value_counts()\n"
   ]
  },
  {
   "cell_type": "code",
   "execution_count": 25,
   "metadata": {},
   "outputs": [
    {
     "data": {
      "text/plain": [
       "fami_educacionmadre\n",
       "1.0    71251\n",
       "2.0    56326\n",
       "3.0    20848\n",
       "0.0    10054\n",
       "4.0     2332\n",
       "5.0        2\n",
       "Name: count, dtype: int64"
      ]
     },
     "execution_count": 25,
     "metadata": {},
     "output_type": "execute_result"
    }
   ],
   "source": [
    "educacion_mapping = {\n",
    "    None: 0,\n",
    "    'No Aplica': 0,\n",
    "    'No sabe': 0,\n",
    "    'Ninguno': 0,\n",
    "    'Primaria incompleta': 1,\n",
    "    'Primaria completa': 1,\n",
    "    'Secundaria (Bachillerato) incompleta': 2,\n",
    "    'Secundaria (Bachillerato) completa': 2,\n",
    "    'Educación profesional incompleta': 3,\n",
    "    'Educación profesional completa': 3,\n",
    "    'Técnica o tecnológica incompleta': 3,\n",
    "    'Técnica o tecnológica completa': 3,\n",
    "    'Postgrado': 4,\n",
    "    'Uno': 1,\n",
    "    'Dos': 2,\n",
    "    'Tres': 3,\n",
    "    'Cuatro': 4,\n",
    "    'Cinco': 5\n",
    "}\n",
    "\n",
    "df_colselec['fami_educacionmadre'] = df_colselec['fami_educacionmadre'].map(educacion_mapping)\n",
    "df_colselec.fami_educacionmadre.value_counts()"
   ]
  },
  {
   "cell_type": "code",
   "execution_count": 26,
   "metadata": {},
   "outputs": [
    {
     "data": {
      "text/plain": [
       "fami_educacionpadre\n",
       "Primaria incompleta                     54270\n",
       "Primaria completa                       25275\n",
       "Secundaria (Bachillerato) completa      25015\n",
       "Secundaria (Bachillerato) incompleta    19249\n",
       "Ninguno                                 10614\n",
       "Educación profesional completa           7768\n",
       "No sabe                                  6740\n",
       "Técnica o tecnológica completa           4875\n",
       "Postgrado                                2240\n",
       "Técnica o tecnológica incompleta         1706\n",
       "No Aplica                                1615\n",
       "Educación profesional incompleta         1453\n",
       "Name: count, dtype: int64"
      ]
     },
     "execution_count": 26,
     "metadata": {},
     "output_type": "execute_result"
    }
   ],
   "source": [
    "df_colselec.fami_educacionpadre.value_counts()\n"
   ]
  },
  {
   "cell_type": "code",
   "execution_count": 27,
   "metadata": {},
   "outputs": [
    {
     "data": {
      "text/plain": [
       "fami_educacionpadre\n",
       "1.0    79545\n",
       "2.0    44264\n",
       "0.0    18969\n",
       "3.0    15802\n",
       "4.0     2240\n",
       "Name: count, dtype: int64"
      ]
     },
     "execution_count": 27,
     "metadata": {},
     "output_type": "execute_result"
    }
   ],
   "source": [
    "df_colselec['fami_educacionpadre'] = df_colselec['fami_educacionpadre'].map(educacion_mapping)\n",
    "df_colselec.fami_educacionpadre.value_counts()"
   ]
  },
  {
   "cell_type": "code",
   "execution_count": 28,
   "metadata": {},
   "outputs": [
    {
     "data": {
      "text/plain": [
       "fami_estratovivienda\n",
       "Estrato 1                               71989\n",
       "Estrato 2                               42998\n",
       "Estrato 3                               17036\n",
       "Sin Estrato                             14803\n",
       "Estrato 4                                6654\n",
       "Estrato 5                                3167\n",
       "Estrato 6                                2131\n",
       "Ninguno                                    22\n",
       "Primaria incompleta                        18\n",
       "Secundaria (Bachillerato) incompleta       16\n",
       "Primaria completa                          10\n",
       "Secundaria (Bachillerato) completa          8\n",
       "Postgrado                                   2\n",
       "Educación profesional incompleta            2\n",
       "Educación profesional completa              2\n",
       "Name: count, dtype: int64"
      ]
     },
     "execution_count": 28,
     "metadata": {},
     "output_type": "execute_result"
    }
   ],
   "source": [
    "df_colselec.fami_estratovivienda.value_counts()"
   ]
  },
  {
   "cell_type": "code",
   "execution_count": 29,
   "metadata": {},
   "outputs": [
    {
     "data": {
      "text/plain": [
       "fami_estratovivienda\n",
       "Estrato 1      71989\n",
       "Estrato 2      42998\n",
       "Estrato 3      17036\n",
       "Sin Estrato    14803\n",
       "Estrato 4       6654\n",
       "Estrato 5       3167\n",
       "Estrato 6       2131\n",
       "Ninguno           22\n",
       "Name: count, dtype: int64"
      ]
     },
     "execution_count": 29,
     "metadata": {},
     "output_type": "execute_result"
    }
   ],
   "source": [
    "education_values = [\n",
    "    'Primaria incompleta', 'Secundaria (Bachillerato) incompleta',\n",
    "    'Primaria completa', 'Secundaria (Bachillerato) completa',\n",
    "    'Postgrado', 'Educación profesional incompleta',\n",
    "    'Educación profesional completa'\n",
    "]\n",
    "\n",
    "df_colselec = df_colselec[~df_colselec['fami_estratovivienda'].isin(education_values)]\n",
    "\n",
    "df_colselec.fami_estratovivienda.value_counts()"
   ]
  },
  {
   "cell_type": "code",
   "execution_count": 30,
   "metadata": {},
   "outputs": [
    {
     "data": {
      "text/plain": [
       "fami_estratovivienda\n",
       "1.0    71989\n",
       "2.0    42998\n",
       "3.0    17036\n",
       "0.0    14825\n",
       "4.0     6654\n",
       "5.0     3167\n",
       "6.0     2131\n",
       "Name: count, dtype: int64"
      ]
     },
     "execution_count": 30,
     "metadata": {},
     "output_type": "execute_result"
    }
   ],
   "source": [
    "estrato_mapping = {\n",
    "    None: 0,\n",
    "    'Sin Estrato': 0,\n",
    "    'Estrato 1': 1,\n",
    "    'Estrato 2': 2,\n",
    "    'Estrato 3': 3,\n",
    "    'Estrato 4': 4,\n",
    "    'Estrato 5': 5,\n",
    "    'Estrato 6': 6,\n",
    "    'Ninguno': 0  \n",
    "}\n",
    "\n",
    "df_colselec['fami_estratovivienda'] = df_colselec['fami_estratovivienda'].map(estrato_mapping)\n",
    "\n",
    "df_colselec.fami_estratovivienda.value_counts()"
   ]
  },
  {
   "cell_type": "code",
   "execution_count": 31,
   "metadata": {},
   "outputs": [
    {
     "data": {
      "text/plain": [
       "fami_personashogar\n",
       "3 a 4          71067\n",
       "5 a 6          59796\n",
       "7 a 8          19576\n",
       "1 a 2          10116\n",
       "9 o más         7434\n",
       "Sin Estrato        8\n",
       "Estrato 1          6\n",
       "Estrato 4          4\n",
       "Estrato 6          2\n",
       "Name: count, dtype: int64"
      ]
     },
     "execution_count": 31,
     "metadata": {},
     "output_type": "execute_result"
    }
   ],
   "source": [
    "df_colselec.fami_personashogar.value_counts()"
   ]
  },
  {
   "cell_type": "code",
   "execution_count": 32,
   "metadata": {},
   "outputs": [
    {
     "data": {
      "text/plain": [
       "fami_personashogar\n",
       "3.0    71067\n",
       "5.0    59796\n",
       "7.0    19576\n",
       "1.0    10116\n",
       "9.0     7434\n",
       "Name: count, dtype: int64"
      ]
     },
     "execution_count": 32,
     "metadata": {},
     "output_type": "execute_result"
    }
   ],
   "source": [
    "misentered_values = ['Sin Estrato', 'Estrato 1', 'Estrato 4', 'Estrato 6']\n",
    "df_colselec = df_colselec[~df_colselec['fami_personashogar'].isin(misentered_values)]\n",
    "\n",
    "personas_mapping = {\n",
    "    '3 a 4': 3,\n",
    "    '5 a 6': 5,\n",
    "    '7 a 8': 7,\n",
    "    '1 a 2': 1,\n",
    "    '9 o más': 9\n",
    "}\n",
    "\n",
    "df_colselec['fami_personashogar'] = df_colselec['fami_personashogar'].map(personas_mapping)\n",
    "\n",
    "df_colselec.fami_personashogar.value_counts()"
   ]
  },
  {
   "cell_type": "code",
   "execution_count": 33,
   "metadata": {},
   "outputs": [
    {
     "data": {
      "text/plain": [
       "fami_tieneautomovil\n",
       "No       138009\n",
       "Si        29323\n",
       "5 a 6         4\n",
       "3 a 4         4\n",
       "7 a 8         2\n",
       "Name: count, dtype: int64"
      ]
     },
     "execution_count": 33,
     "metadata": {},
     "output_type": "execute_result"
    }
   ],
   "source": [
    "df_colselec.fami_tieneautomovil.value_counts()"
   ]
  },
  {
   "cell_type": "code",
   "execution_count": 34,
   "metadata": {},
   "outputs": [
    {
     "data": {
      "text/plain": [
       "fami_tieneautomovil\n",
       "0.0    138009\n",
       "1.0     29323\n",
       "Name: count, dtype: int64"
      ]
     },
     "execution_count": 34,
     "metadata": {},
     "output_type": "execute_result"
    }
   ],
   "source": [
    "misentered_values = ['5 a 6', '3 a 4', '7 a 8']\n",
    "df_colselec = df_colselec[~df_colselec['fami_tieneautomovil'].isin(misentered_values)]\n",
    "\n",
    "binary_mapping = {\n",
    "    'No': 0,\n",
    "    'Si': 1\n",
    "}\n",
    "\n",
    "df_colselec['fami_tieneautomovil'] = df_colselec['fami_tieneautomovil'].map(binary_mapping)\n",
    "\n",
    "df_colselec.fami_tieneautomovil.value_counts()"
   ]
  },
  {
   "cell_type": "code",
   "execution_count": 35,
   "metadata": {},
   "outputs": [
    {
     "data": {
      "text/plain": [
       "fami_tienecomputador\n",
       "No    113077\n",
       "Si     54649\n",
       "Name: count, dtype: int64"
      ]
     },
     "execution_count": 35,
     "metadata": {},
     "output_type": "execute_result"
    }
   ],
   "source": [
    "df_colselec.fami_tienecomputador.value_counts()"
   ]
  },
  {
   "cell_type": "code",
   "execution_count": 36,
   "metadata": {},
   "outputs": [
    {
     "data": {
      "text/plain": [
       "fami_tienecomputador\n",
       "0.0    113077\n",
       "1.0     54649\n",
       "Name: count, dtype: int64"
      ]
     },
     "execution_count": 36,
     "metadata": {},
     "output_type": "execute_result"
    }
   ],
   "source": [
    "df_colselec['fami_tienecomputador'] = df_colselec['fami_tienecomputador'].map(binary_mapping)\n",
    "\n",
    "df_colselec.fami_tienecomputador.value_counts()"
   ]
  },
  {
   "cell_type": "code",
   "execution_count": 37,
   "metadata": {},
   "outputs": [
    {
     "data": {
      "text/plain": [
       "fami_tieneinternet\n",
       "No    113947\n",
       "Si     46614\n",
       "Name: count, dtype: int64"
      ]
     },
     "execution_count": 37,
     "metadata": {},
     "output_type": "execute_result"
    }
   ],
   "source": [
    "df_colselec.fami_tieneinternet.value_counts()"
   ]
  },
  {
   "cell_type": "code",
   "execution_count": 38,
   "metadata": {},
   "outputs": [
    {
     "data": {
      "text/plain": [
       "fami_tieneinternet\n",
       "0.0    113947\n",
       "1.0     46614\n",
       "Name: count, dtype: int64"
      ]
     },
     "execution_count": 38,
     "metadata": {},
     "output_type": "execute_result"
    }
   ],
   "source": [
    "df_colselec['fami_tieneinternet'] = df_colselec['fami_tieneinternet'].map(binary_mapping)\n",
    "\n",
    "df_colselec.fami_tieneinternet.value_counts()"
   ]
  },
  {
   "cell_type": "code",
   "execution_count": 39,
   "metadata": {},
   "outputs": [
    {
     "data": {
      "text/plain": [
       "fami_tienelavadora\n",
       "Si    100581\n",
       "No     67208\n",
       "Name: count, dtype: int64"
      ]
     },
     "execution_count": 39,
     "metadata": {},
     "output_type": "execute_result"
    }
   ],
   "source": [
    "df_colselec.fami_tienelavadora.value_counts()"
   ]
  },
  {
   "cell_type": "code",
   "execution_count": 40,
   "metadata": {},
   "outputs": [
    {
     "data": {
      "text/plain": [
       "fami_tienelavadora\n",
       "1.0    100581\n",
       "0.0     67208\n",
       "Name: count, dtype: int64"
      ]
     },
     "execution_count": 40,
     "metadata": {},
     "output_type": "execute_result"
    }
   ],
   "source": [
    "df_colselec['fami_tienelavadora'] = df_colselec['fami_tienelavadora'].map(binary_mapping)\n",
    "\n",
    "df_colselec.fami_tienelavadora.value_counts()"
   ]
  },
  {
   "cell_type": "code",
   "execution_count": 41,
   "metadata": {},
   "outputs": [
    {
     "name": "stdout",
     "output_type": "stream",
     "text": [
      "<class 'pandas.core.frame.DataFrame'>\n",
      "Index: 155895 entries, 0 to 173668\n",
      "Data columns (total 28 columns):\n",
      " #   Column                      Non-Null Count   Dtype  \n",
      "---  ------                      --------------   -----  \n",
      " 0   cole_bilingue               155895 non-null  int64  \n",
      " 1   cole_calendario             155895 non-null  int64  \n",
      " 2   cole_naturaleza             155895 non-null  int64  \n",
      " 3   cole_sede_principal         155895 non-null  float64\n",
      " 4   estu_genero                 155895 non-null  float64\n",
      " 5   fami_cuartoshogar           155895 non-null  float64\n",
      " 6   fami_educacionmadre         155895 non-null  float64\n",
      " 7   fami_educacionpadre         155895 non-null  float64\n",
      " 8   fami_estratovivienda        155895 non-null  float64\n",
      " 9   fami_personashogar          155895 non-null  float64\n",
      " 10  fami_tieneautomovil         155895 non-null  float64\n",
      " 11  fami_tienecomputador        155895 non-null  float64\n",
      " 12  fami_tieneinternet          155895 non-null  float64\n",
      " 13  fami_tienelavadora          155895 non-null  float64\n",
      " 14  punt_global                 155895 non-null  int64  \n",
      " 15  caracter_COMPLETA           155895 non-null  int32  \n",
      " 16  caracter_MAÑANA             155895 non-null  int32  \n",
      " 17  caracter_NOCHE              155895 non-null  int32  \n",
      " 18  caracter_SABATINA           155895 non-null  int32  \n",
      " 19  caracter_TARDE              155895 non-null  int32  \n",
      " 20  caracter_UNICA              155895 non-null  int32  \n",
      " 21  caracter_ACADÉMICO          155895 non-null  int32  \n",
      " 22  caracter_NO APLICA          155895 non-null  int32  \n",
      " 23  caracter_TÉCNICO            155895 non-null  int32  \n",
      " 24  caracter_TÉCNICO/ACADÉMICO  155895 non-null  int32  \n",
      " 25  genero_FEMENINO             155895 non-null  int32  \n",
      " 26  genero_MASCULINO            155895 non-null  int32  \n",
      " 27  genero_MIXTO                155895 non-null  int32  \n",
      "dtypes: float64(11), int32(13), int64(4)\n",
      "memory usage: 26.8 MB\n"
     ]
    }
   ],
   "source": [
    "df_cleaned = df_colselec.dropna()\n",
    "\n",
    "df_cleaned.info()"
   ]
  },
  {
   "cell_type": "code",
   "execution_count": 42,
   "metadata": {},
   "outputs": [],
   "source": [
    "\n",
    "df_cleaned.to_csv('data/data_limpia.csv', index=False)"
   ]
  }
 ],
 "metadata": {
  "kernelspec": {
   "display_name": "Python 3",
   "language": "python",
   "name": "python3"
  },
  "language_info": {
   "codemirror_mode": {
    "name": "ipython",
    "version": 3
   },
   "file_extension": ".py",
   "mimetype": "text/x-python",
   "name": "python",
   "nbconvert_exporter": "python",
   "pygments_lexer": "ipython3",
   "version": "3.11.7"
  }
 },
 "nbformat": 4,
 "nbformat_minor": 2
}
